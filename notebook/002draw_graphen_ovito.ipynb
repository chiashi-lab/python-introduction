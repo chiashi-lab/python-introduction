{
 "cells": [
  {
   "cell_type": "code",
   "execution_count": 1,
   "metadata": {},
   "outputs": [],
   "source": [
    "import numpy as np\n",
    "import os"
   ]
  },
  {
   "cell_type": "code",
   "execution_count": 2,
   "metadata": {},
   "outputs": [],
   "source": [
    "outputdir = \"../output/\""
   ]
  },
  {
   "cell_type": "code",
   "execution_count": 3,
   "metadata": {},
   "outputs": [],
   "source": [
    "xlist = np.array([2, 4, 6, 8])\n",
    "ylist = np.array([1, 3, 5, 7])\n",
    "zlist = np.array([1, 2, 3, 4])"
   ]
  },
  {
   "cell_type": "code",
   "execution_count": 4,
   "metadata": {},
   "outputs": [],
   "source": [
    "with open(\"../test.txt\", \"w\") as f:\n",
    "    f.write(\"hello\\n\")\n",
    "    f.write(\"from notebook/002\\n\")"
   ]
  },
  {
   "cell_type": "code",
   "execution_count": 5,
   "metadata": {},
   "outputs": [],
   "source": [
    "def write2xyz(xlist, ylist, zlist, filename):\n",
    "    with open(filename, 'w') as f:\n",
    "        f.write(f'{len(xlist)}\\n')\n",
    "        f.write('id, x, y, z\\n')\n",
    "        for x, y, z in zip(xlist, ylist, zlist):\n",
    "            f.write(f'C {x} {y} {z}\\n')"
   ]
  },
  {
   "cell_type": "code",
   "execution_count": 6,
   "metadata": {},
   "outputs": [],
   "source": [
    "filename = os.path.join(outputdir, \"test.xyz\")\n",
    "write2xyz(xlist, ylist, zlist, filename)"
   ]
  }
 ],
 "metadata": {
  "kernelspec": {
   "display_name": "Python 3",
   "language": "python",
   "name": "python3"
  },
  "language_info": {
   "codemirror_mode": {
    "name": "ipython",
    "version": 3
   },
   "file_extension": ".py",
   "mimetype": "text/x-python",
   "name": "python",
   "nbconvert_exporter": "python",
   "pygments_lexer": "ipython3",
   "version": "3.10.11"
  }
 },
 "nbformat": 4,
 "nbformat_minor": 2
}
