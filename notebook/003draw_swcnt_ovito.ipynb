{
 "cells": [
  {
   "cell_type": "code",
   "execution_count": 1,
   "metadata": {},
   "outputs": [],
   "source": [
    "import numpy as np\n",
    "import os\n",
    "import math"
   ]
  },
  {
   "cell_type": "code",
   "execution_count": 2,
   "metadata": {},
   "outputs": [],
   "source": [
    "outputdir = \"../output/\""
   ]
  },
  {
   "cell_type": "code",
   "execution_count": 3,
   "metadata": {},
   "outputs": [],
   "source": [
    "# 定数の定義\n",
    "pi = 3.14159265359\n",
    "a = 1.461\n",
    "root3 = 1.73205080756\n",
    "c2of3 = 0.66666666666666\n",
    "a1 = np.array([a, 0.0, 0.0])\n",
    "a2 = np.array([a * 0.5, a * 0.5 * root3, 0.0])\n",
    "A = np.array([0.0, 0.0, 0.0])\n",
    "B = np.array([c2of3, c2of3, 0.0])\n",
    "\n",
    "bondl = a / root3\n",
    "bond_error = bondl / 10\n",
    "judge_bondl = bondl + bond_error"
   ]
  },
  {
   "cell_type": "code",
   "execution_count": 4,
   "metadata": {},
   "outputs": [],
   "source": [
    "def funcx(a, b, y):\n",
    "    return a * y + b\n",
    "\n",
    "\n",
    "def funcy(a, b, x):\n",
    "    return a * x + b\n",
    "\n",
    "\n",
    "def examin_the_size(a, b, vari):\n",
    "    temp = sorted([a, b])\n",
    "    return 1 if temp[0] < vari <= temp[1] else 0"
   ]
  },
  {
   "cell_type": "code",
   "execution_count": 5,
   "metadata": {},
   "outputs": [],
   "source": [
    "class Atom:\n",
    "    def __init__(self, coord, atom_id):\n",
    "        self.coord = np.array(coord)\n",
    "        self.id = atom_id\n",
    "\n",
    "    def getx(self):\n",
    "        return self.coord[0]\n",
    "\n",
    "    def gety(self):\n",
    "        return self.coord[1]\n",
    "\n",
    "    def getz(self):\n",
    "        return self.coord[2]\n",
    "\n",
    "    def getid(self):\n",
    "        return self.id\n",
    "\n",
    "    def putx(self, x):\n",
    "        self.coord[0] = x\n",
    "\n",
    "    def puty(self, y):\n",
    "        self.coord[1] = y\n",
    "\n",
    "    def putz(self, z):\n",
    "        self.coord[2] = z\n",
    "\n",
    "    def getcoord(self):\n",
    "        return self.coord"
   ]
  },
  {
   "cell_type": "code",
   "execution_count": 6,
   "metadata": {},
   "outputs": [],
   "source": [
    "class Bond:\n",
    "    def __init__(self, a0, a1):\n",
    "        self.coord = (np.array(a0) + np.array(a1)) / 2\n",
    "        self.angle = np.zeros(3)\n",
    "        self.angle[0] = math.atan((a1[1] - a0[1]) / (a1[2] - a0[2]))\n",
    "        self.angle[1] = math.atan((a1[0] - a0[0]) / (a1[2] - a0[2]))\n",
    "        self.angle[2] = 0.0\n",
    "\n",
    "    def getcoord(self):\n",
    "        return self.coord\n",
    "\n",
    "    def getx(self):\n",
    "        return self.coord[0]\n",
    "\n",
    "    def gety(self):\n",
    "        return self.coord[1]\n",
    "\n",
    "    def getz(self):\n",
    "        return self.coord[2]\n",
    "\n",
    "    def getanglex(self):\n",
    "        return self.angle[0]\n",
    "\n",
    "    def getangley(self):\n",
    "        return self.angle[1]\n",
    "\n",
    "    def getanglez(self):\n",
    "        return self.angle[2]"
   ]
  },
  {
   "cell_type": "code",
   "execution_count": 7,
   "metadata": {},
   "outputs": [],
   "source": [
    "class NanoTube:\n",
    "    def __init__(self, n, m, length):\n",
    "        self.n = n\n",
    "        self.m = m\n",
    "        self.length = length\n",
    "        self.ch = n * a1 + m * a2\n",
    "        ro90 = np.array([\n",
    "            [0, -1 * length / np.linalg.norm(self.ch), 0],\n",
    "            [1 * length / np.linalg.norm(self.ch), 0, 0],\n",
    "            [0, 0, 0]\n",
    "        ])\n",
    "        self.lt = np.dot(ro90, self.ch)\n",
    "        self.r = np.linalg.norm(self.ch) * 0.5 / pi\n",
    "        self.Atoms = []\n",
    "        self.Bonds = []\n",
    "\n",
    "    def graphene(self, aid, bid):\n",
    "        L1, L2 = 1000, 1000\n",
    "        ac = self.ch[1] / self.ch[0]\n",
    "        al = self.lt[0] / self.lt[1]\n",
    "        theta = math.atan(ac)\n",
    "        roma = np.array([\n",
    "            [math.cos(theta), math.sin(theta), 0],\n",
    "            [-math.sin(theta), math.cos(theta), 0],\n",
    "            [0, 0, 1]\n",
    "        ])\n",
    "\n",
    "        for i in range(-L1, L1):\n",
    "            for j in range(-L2, L2):\n",
    "                # Put atom A\n",
    "                b = np.array([i + A[0], j + A[1]])\n",
    "                c = a1 * b[0] + a2 * b[1]\n",
    "\n",
    "                if (\n",
    "                    examin_the_size(funcy(ac, 0.0, c[0]), funcy(ac, self.lt[1] - ac * self.lt[0], c[0]), c[1]) and\n",
    "                    examin_the_size(funcx(al, 0.0, c[1]), funcx(al, self.ch[0] - al * self.ch[1], c[1]), c[0])\n",
    "                ):\n",
    "                    self.Atoms.append(Atom(c, aid))\n",
    "\n",
    "                # Put atom B\n",
    "                b = np.array([i + B[0], j + B[1]])\n",
    "                c = a1 * b[0] + a2 * b[1]\n",
    "\n",
    "                if (\n",
    "                    examin_the_size(funcy(ac, 0.0, c[0]), funcy(ac, self.lt[1] - ac * self.lt[0], c[0]), c[1]) and\n",
    "                    examin_the_size(funcx(al, 0.0, c[1]), funcx(al, self.ch[1] - al * self.ch[0], c[1]), c[0])\n",
    "                ):\n",
    "                    self.Atoms.append(Atom(c, bid))\n",
    "\n",
    "        for atom in self.Atoms:\n",
    "            tempp = np.dot(roma, atom.getcoord())\n",
    "            atom.putx(tempp[0])\n",
    "            atom.puty(tempp[1])\n",
    "            atom.putz(tempp[2])\n",
    "\n",
    "    def tube(self):\n",
    "        for atom in self.Atoms:\n",
    "            theta = atom.getx() / self.r\n",
    "            atom.putx(self.r * math.cos(theta))\n",
    "            atom.putz(self.r * math.sin(theta))\n",
    "\n",
    "    def bond(self):\n",
    "        for i in range(len(self.Atoms) - 1):\n",
    "            for j in range(i + 1, len(self.Atoms)):\n",
    "                bond_vec = self.Atoms[i].getcoord() - self.Atoms[j].getcoord()\n",
    "                if np.linalg.norm(bond_vec) <= judge_bondl:\n",
    "                    self.Bonds.append(Bond(self.Atoms[i].getcoord(), self.Atoms[j].getcoord()))\n",
    "\n",
    "    def xyz(self, filename=\"default.xyz\"):\n",
    "        with open(filename, \"w\") as outputxyz:\n",
    "            outputxyz.write(f\"{len(self.Atoms)}\\n\")\n",
    "            outputxyz.write(\"id,posx,posy,posz\\n\")\n",
    "            for atom in self.Atoms:\n",
    "                outputxyz.write(f\"{atom.getid()} {atom.getx()} {atom.gety()} {atom.getz()}\\n\")\n"
   ]
  },
  {
   "cell_type": "code",
   "execution_count": 8,
   "metadata": {},
   "outputs": [],
   "source": [
    "n = 6\n",
    "m = 5"
   ]
  },
  {
   "cell_type": "code",
   "execution_count": 9,
   "metadata": {},
   "outputs": [],
   "source": [
    "id1 = \"C\"\n",
    "id2 = \"C\""
   ]
  },
  {
   "cell_type": "code",
   "execution_count": 10,
   "metadata": {},
   "outputs": [],
   "source": [
    "length = 10"
   ]
  },
  {
   "cell_type": "code",
   "execution_count": 11,
   "metadata": {},
   "outputs": [],
   "source": [
    "nanotube = NanoTube(n, m, length)\n",
    "nanotube.graphene(id1, id2)\n",
    "nanotube.tube()\n",
    "nanotube.xyz(os.path.join(outputdir, f\"nanotube_{n}_{m}.xyz\"))"
   ]
  }
 ],
 "metadata": {
  "kernelspec": {
   "display_name": "Python 3",
   "language": "python",
   "name": "python3"
  },
  "language_info": {
   "codemirror_mode": {
    "name": "ipython",
    "version": 3
   },
   "file_extension": ".py",
   "mimetype": "text/x-python",
   "name": "python",
   "nbconvert_exporter": "python",
   "pygments_lexer": "ipython3",
   "version": "3.10.11"
  }
 },
 "nbformat": 4,
 "nbformat_minor": 2
}
